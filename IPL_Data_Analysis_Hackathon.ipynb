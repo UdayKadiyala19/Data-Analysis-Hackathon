{
 "cells": [
  {
   "cell_type": "markdown",
   "id": "0ff09efb",
   "metadata": {},
   "source": [
    "#### Importing the Libraries"
   ]
  },
  {
   "cell_type": "code",
   "execution_count": 1,
   "id": "643e65b3",
   "metadata": {},
   "outputs": [],
   "source": [
    "import numpy as np\n",
    "import pandas as pd\n",
    "import matplotlib.pyplot as plt\n",
    "import seaborn as sns"
   ]
  },
  {
   "cell_type": "markdown",
   "id": "4de00994",
   "metadata": {},
   "source": [
    "#### Importing the dataset"
   ]
  },
  {
   "cell_type": "code",
   "execution_count": 75,
   "id": "362da9f3",
   "metadata": {},
   "outputs": [],
   "source": [
    "df1= pd.read_csv(r\"C:\\Users\\udayk\\Downloads\\matches.csv\")"
   ]
  },
  {
   "cell_type": "code",
   "execution_count": 93,
   "id": "189c3e0e",
   "metadata": {},
   "outputs": [
    {
     "data": {
      "text/html": [
       "<div>\n",
       "<style scoped>\n",
       "    .dataframe tbody tr th:only-of-type {\n",
       "        vertical-align: middle;\n",
       "    }\n",
       "\n",
       "    .dataframe tbody tr th {\n",
       "        vertical-align: top;\n",
       "    }\n",
       "\n",
       "    .dataframe thead th {\n",
       "        text-align: right;\n",
       "    }\n",
       "</style>\n",
       "<table border=\"1\" class=\"dataframe\">\n",
       "  <thead>\n",
       "    <tr style=\"text-align: right;\">\n",
       "      <th></th>\n",
       "      <th>id</th>\n",
       "      <th>season</th>\n",
       "      <th>city</th>\n",
       "      <th>date</th>\n",
       "      <th>team1</th>\n",
       "      <th>team2</th>\n",
       "      <th>toss_winner</th>\n",
       "      <th>toss_decision</th>\n",
       "      <th>result</th>\n",
       "      <th>dl_applied</th>\n",
       "      <th>winner</th>\n",
       "      <th>win_by_runs</th>\n",
       "      <th>win_by_wickets</th>\n",
       "      <th>player_of_match</th>\n",
       "      <th>venue</th>\n",
       "      <th>umpire1</th>\n",
       "      <th>umpire2</th>\n",
       "      <th>umpire3</th>\n",
       "    </tr>\n",
       "  </thead>\n",
       "  <tbody>\n",
       "    <tr>\n",
       "      <th>0</th>\n",
       "      <td>1</td>\n",
       "      <td>2017</td>\n",
       "      <td>Hyderabad</td>\n",
       "      <td>2017-04-05</td>\n",
       "      <td>Sunrisers Hyderabad</td>\n",
       "      <td>Royal Challengers Bangalore</td>\n",
       "      <td>Royal Challengers Bangalore</td>\n",
       "      <td>field</td>\n",
       "      <td>normal</td>\n",
       "      <td>0</td>\n",
       "      <td>Sunrisers Hyderabad</td>\n",
       "      <td>35</td>\n",
       "      <td>0</td>\n",
       "      <td>Yuvraj Singh</td>\n",
       "      <td>Rajiv Gandhi International Stadium, Uppal</td>\n",
       "      <td>AY Dandekar</td>\n",
       "      <td>NJ Llong</td>\n",
       "      <td>NaN</td>\n",
       "    </tr>\n",
       "    <tr>\n",
       "      <th>1</th>\n",
       "      <td>2</td>\n",
       "      <td>2017</td>\n",
       "      <td>Pune</td>\n",
       "      <td>2017-04-06</td>\n",
       "      <td>Mumbai Indians</td>\n",
       "      <td>Rising Pune Supergiant</td>\n",
       "      <td>Rising Pune Supergiant</td>\n",
       "      <td>field</td>\n",
       "      <td>normal</td>\n",
       "      <td>0</td>\n",
       "      <td>Rising Pune Supergiant</td>\n",
       "      <td>0</td>\n",
       "      <td>7</td>\n",
       "      <td>SPD Smith</td>\n",
       "      <td>Maharashtra Cricket Association Stadium</td>\n",
       "      <td>A Nand Kishore</td>\n",
       "      <td>S Ravi</td>\n",
       "      <td>NaN</td>\n",
       "    </tr>\n",
       "    <tr>\n",
       "      <th>2</th>\n",
       "      <td>3</td>\n",
       "      <td>2017</td>\n",
       "      <td>Rajkot</td>\n",
       "      <td>2017-04-07</td>\n",
       "      <td>Gujarat Lions</td>\n",
       "      <td>Kolkata Knight Riders</td>\n",
       "      <td>Kolkata Knight Riders</td>\n",
       "      <td>field</td>\n",
       "      <td>normal</td>\n",
       "      <td>0</td>\n",
       "      <td>Kolkata Knight Riders</td>\n",
       "      <td>0</td>\n",
       "      <td>10</td>\n",
       "      <td>CA Lynn</td>\n",
       "      <td>Saurashtra Cricket Association Stadium</td>\n",
       "      <td>Nitin Menon</td>\n",
       "      <td>CK Nandan</td>\n",
       "      <td>NaN</td>\n",
       "    </tr>\n",
       "    <tr>\n",
       "      <th>3</th>\n",
       "      <td>4</td>\n",
       "      <td>2017</td>\n",
       "      <td>Indore</td>\n",
       "      <td>2017-04-08</td>\n",
       "      <td>Rising Pune Supergiant</td>\n",
       "      <td>Kings XI Punjab</td>\n",
       "      <td>Kings XI Punjab</td>\n",
       "      <td>field</td>\n",
       "      <td>normal</td>\n",
       "      <td>0</td>\n",
       "      <td>Kings XI Punjab</td>\n",
       "      <td>0</td>\n",
       "      <td>6</td>\n",
       "      <td>GJ Maxwell</td>\n",
       "      <td>Holkar Cricket Stadium</td>\n",
       "      <td>AK Chaudhary</td>\n",
       "      <td>C Shamshuddin</td>\n",
       "      <td>NaN</td>\n",
       "    </tr>\n",
       "    <tr>\n",
       "      <th>4</th>\n",
       "      <td>5</td>\n",
       "      <td>2017</td>\n",
       "      <td>Bangalore</td>\n",
       "      <td>2017-04-08</td>\n",
       "      <td>Royal Challengers Bangalore</td>\n",
       "      <td>Delhi Daredevils</td>\n",
       "      <td>Royal Challengers Bangalore</td>\n",
       "      <td>bat</td>\n",
       "      <td>normal</td>\n",
       "      <td>0</td>\n",
       "      <td>Royal Challengers Bangalore</td>\n",
       "      <td>15</td>\n",
       "      <td>0</td>\n",
       "      <td>KM Jadhav</td>\n",
       "      <td>M Chinnaswamy Stadium</td>\n",
       "      <td>NaN</td>\n",
       "      <td>NaN</td>\n",
       "      <td>NaN</td>\n",
       "    </tr>\n",
       "  </tbody>\n",
       "</table>\n",
       "</div>"
      ],
      "text/plain": [
       "   id  season       city        date                        team1  \\\n",
       "0   1    2017  Hyderabad  2017-04-05          Sunrisers Hyderabad   \n",
       "1   2    2017       Pune  2017-04-06               Mumbai Indians   \n",
       "2   3    2017     Rajkot  2017-04-07                Gujarat Lions   \n",
       "3   4    2017     Indore  2017-04-08       Rising Pune Supergiant   \n",
       "4   5    2017  Bangalore  2017-04-08  Royal Challengers Bangalore   \n",
       "\n",
       "                         team2                  toss_winner toss_decision  \\\n",
       "0  Royal Challengers Bangalore  Royal Challengers Bangalore         field   \n",
       "1       Rising Pune Supergiant       Rising Pune Supergiant         field   \n",
       "2        Kolkata Knight Riders        Kolkata Knight Riders         field   \n",
       "3              Kings XI Punjab              Kings XI Punjab         field   \n",
       "4             Delhi Daredevils  Royal Challengers Bangalore           bat   \n",
       "\n",
       "   result  dl_applied                       winner  win_by_runs  \\\n",
       "0  normal           0          Sunrisers Hyderabad           35   \n",
       "1  normal           0       Rising Pune Supergiant            0   \n",
       "2  normal           0        Kolkata Knight Riders            0   \n",
       "3  normal           0              Kings XI Punjab            0   \n",
       "4  normal           0  Royal Challengers Bangalore           15   \n",
       "\n",
       "   win_by_wickets player_of_match                                      venue  \\\n",
       "0               0    Yuvraj Singh  Rajiv Gandhi International Stadium, Uppal   \n",
       "1               7       SPD Smith    Maharashtra Cricket Association Stadium   \n",
       "2              10         CA Lynn     Saurashtra Cricket Association Stadium   \n",
       "3               6      GJ Maxwell                     Holkar Cricket Stadium   \n",
       "4               0       KM Jadhav                      M Chinnaswamy Stadium   \n",
       "\n",
       "          umpire1        umpire2 umpire3  \n",
       "0     AY Dandekar       NJ Llong     NaN  \n",
       "1  A Nand Kishore         S Ravi     NaN  \n",
       "2     Nitin Menon      CK Nandan     NaN  \n",
       "3    AK Chaudhary  C Shamshuddin     NaN  \n",
       "4             NaN            NaN     NaN  "
      ]
     },
     "execution_count": 93,
     "metadata": {},
     "output_type": "execute_result"
    }
   ],
   "source": [
    "df1.head()"
   ]
  },
  {
   "cell_type": "code",
   "execution_count": 86,
   "id": "fd4bf7f6",
   "metadata": {},
   "outputs": [],
   "source": [
    "df2= pd.read_csv(r\"C:\\Users\\udayk\\Downloads\\deliveries.csv\")"
   ]
  },
  {
   "cell_type": "code",
   "execution_count": 87,
   "id": "49d99153",
   "metadata": {},
   "outputs": [
    {
     "data": {
      "text/html": [
       "<div>\n",
       "<style scoped>\n",
       "    .dataframe tbody tr th:only-of-type {\n",
       "        vertical-align: middle;\n",
       "    }\n",
       "\n",
       "    .dataframe tbody tr th {\n",
       "        vertical-align: top;\n",
       "    }\n",
       "\n",
       "    .dataframe thead th {\n",
       "        text-align: right;\n",
       "    }\n",
       "</style>\n",
       "<table border=\"1\" class=\"dataframe\">\n",
       "  <thead>\n",
       "    <tr style=\"text-align: right;\">\n",
       "      <th></th>\n",
       "      <th>match_id</th>\n",
       "      <th>inning</th>\n",
       "      <th>batting_team</th>\n",
       "      <th>bowling_team</th>\n",
       "      <th>over</th>\n",
       "      <th>ball</th>\n",
       "      <th>batsman</th>\n",
       "      <th>non_striker</th>\n",
       "      <th>bowler</th>\n",
       "      <th>is_super_over</th>\n",
       "      <th>...</th>\n",
       "      <th>bye_runs</th>\n",
       "      <th>legbye_runs</th>\n",
       "      <th>noball_runs</th>\n",
       "      <th>penalty_runs</th>\n",
       "      <th>batsman_runs</th>\n",
       "      <th>extra_runs</th>\n",
       "      <th>total_runs</th>\n",
       "      <th>player_dismissed</th>\n",
       "      <th>dismissal_kind</th>\n",
       "      <th>fielder</th>\n",
       "    </tr>\n",
       "  </thead>\n",
       "  <tbody>\n",
       "    <tr>\n",
       "      <th>0</th>\n",
       "      <td>1</td>\n",
       "      <td>1</td>\n",
       "      <td>Sunrisers Hyderabad</td>\n",
       "      <td>Royal Challengers Bangalore</td>\n",
       "      <td>1</td>\n",
       "      <td>1</td>\n",
       "      <td>DA Warner</td>\n",
       "      <td>S Dhawan</td>\n",
       "      <td>TS Mills</td>\n",
       "      <td>0</td>\n",
       "      <td>...</td>\n",
       "      <td>0</td>\n",
       "      <td>0</td>\n",
       "      <td>0</td>\n",
       "      <td>0</td>\n",
       "      <td>0</td>\n",
       "      <td>0</td>\n",
       "      <td>0</td>\n",
       "      <td>NaN</td>\n",
       "      <td>NaN</td>\n",
       "      <td>NaN</td>\n",
       "    </tr>\n",
       "    <tr>\n",
       "      <th>1</th>\n",
       "      <td>1</td>\n",
       "      <td>1</td>\n",
       "      <td>Sunrisers Hyderabad</td>\n",
       "      <td>Royal Challengers Bangalore</td>\n",
       "      <td>1</td>\n",
       "      <td>2</td>\n",
       "      <td>DA Warner</td>\n",
       "      <td>S Dhawan</td>\n",
       "      <td>TS Mills</td>\n",
       "      <td>0</td>\n",
       "      <td>...</td>\n",
       "      <td>0</td>\n",
       "      <td>0</td>\n",
       "      <td>0</td>\n",
       "      <td>0</td>\n",
       "      <td>0</td>\n",
       "      <td>0</td>\n",
       "      <td>0</td>\n",
       "      <td>NaN</td>\n",
       "      <td>NaN</td>\n",
       "      <td>NaN</td>\n",
       "    </tr>\n",
       "    <tr>\n",
       "      <th>2</th>\n",
       "      <td>1</td>\n",
       "      <td>1</td>\n",
       "      <td>Sunrisers Hyderabad</td>\n",
       "      <td>Royal Challengers Bangalore</td>\n",
       "      <td>1</td>\n",
       "      <td>3</td>\n",
       "      <td>DA Warner</td>\n",
       "      <td>S Dhawan</td>\n",
       "      <td>TS Mills</td>\n",
       "      <td>0</td>\n",
       "      <td>...</td>\n",
       "      <td>0</td>\n",
       "      <td>0</td>\n",
       "      <td>0</td>\n",
       "      <td>0</td>\n",
       "      <td>4</td>\n",
       "      <td>0</td>\n",
       "      <td>4</td>\n",
       "      <td>NaN</td>\n",
       "      <td>NaN</td>\n",
       "      <td>NaN</td>\n",
       "    </tr>\n",
       "    <tr>\n",
       "      <th>3</th>\n",
       "      <td>1</td>\n",
       "      <td>1</td>\n",
       "      <td>Sunrisers Hyderabad</td>\n",
       "      <td>Royal Challengers Bangalore</td>\n",
       "      <td>1</td>\n",
       "      <td>4</td>\n",
       "      <td>DA Warner</td>\n",
       "      <td>S Dhawan</td>\n",
       "      <td>TS Mills</td>\n",
       "      <td>0</td>\n",
       "      <td>...</td>\n",
       "      <td>0</td>\n",
       "      <td>0</td>\n",
       "      <td>0</td>\n",
       "      <td>0</td>\n",
       "      <td>0</td>\n",
       "      <td>0</td>\n",
       "      <td>0</td>\n",
       "      <td>NaN</td>\n",
       "      <td>NaN</td>\n",
       "      <td>NaN</td>\n",
       "    </tr>\n",
       "    <tr>\n",
       "      <th>4</th>\n",
       "      <td>1</td>\n",
       "      <td>1</td>\n",
       "      <td>Sunrisers Hyderabad</td>\n",
       "      <td>Royal Challengers Bangalore</td>\n",
       "      <td>1</td>\n",
       "      <td>5</td>\n",
       "      <td>DA Warner</td>\n",
       "      <td>S Dhawan</td>\n",
       "      <td>TS Mills</td>\n",
       "      <td>0</td>\n",
       "      <td>...</td>\n",
       "      <td>0</td>\n",
       "      <td>0</td>\n",
       "      <td>0</td>\n",
       "      <td>0</td>\n",
       "      <td>0</td>\n",
       "      <td>2</td>\n",
       "      <td>2</td>\n",
       "      <td>NaN</td>\n",
       "      <td>NaN</td>\n",
       "      <td>NaN</td>\n",
       "    </tr>\n",
       "  </tbody>\n",
       "</table>\n",
       "<p>5 rows × 21 columns</p>\n",
       "</div>"
      ],
      "text/plain": [
       "   match_id  inning         batting_team                 bowling_team  over  \\\n",
       "0         1       1  Sunrisers Hyderabad  Royal Challengers Bangalore     1   \n",
       "1         1       1  Sunrisers Hyderabad  Royal Challengers Bangalore     1   \n",
       "2         1       1  Sunrisers Hyderabad  Royal Challengers Bangalore     1   \n",
       "3         1       1  Sunrisers Hyderabad  Royal Challengers Bangalore     1   \n",
       "4         1       1  Sunrisers Hyderabad  Royal Challengers Bangalore     1   \n",
       "\n",
       "   ball    batsman non_striker    bowler  is_super_over  ...  bye_runs  \\\n",
       "0     1  DA Warner    S Dhawan  TS Mills              0  ...         0   \n",
       "1     2  DA Warner    S Dhawan  TS Mills              0  ...         0   \n",
       "2     3  DA Warner    S Dhawan  TS Mills              0  ...         0   \n",
       "3     4  DA Warner    S Dhawan  TS Mills              0  ...         0   \n",
       "4     5  DA Warner    S Dhawan  TS Mills              0  ...         0   \n",
       "\n",
       "   legbye_runs  noball_runs  penalty_runs  batsman_runs  extra_runs  \\\n",
       "0            0            0             0             0           0   \n",
       "1            0            0             0             0           0   \n",
       "2            0            0             0             4           0   \n",
       "3            0            0             0             0           0   \n",
       "4            0            0             0             0           2   \n",
       "\n",
       "   total_runs  player_dismissed dismissal_kind fielder  \n",
       "0           0               NaN            NaN     NaN  \n",
       "1           0               NaN            NaN     NaN  \n",
       "2           4               NaN            NaN     NaN  \n",
       "3           0               NaN            NaN     NaN  \n",
       "4           2               NaN            NaN     NaN  \n",
       "\n",
       "[5 rows x 21 columns]"
      ]
     },
     "execution_count": 87,
     "metadata": {},
     "output_type": "execute_result"
    }
   ],
   "source": [
    "df2.head()"
   ]
  },
  {
   "cell_type": "markdown",
   "id": "ad99f08b",
   "metadata": {},
   "source": [
    "#### 1.Which of the following is the right way to merge 2 datasets for getting better insights from the data\n"
   ]
  },
  {
   "cell_type": "markdown",
   "id": "5f934c41",
   "metadata": {},
   "source": [
    "we can not merge the two datasets as per the left and right because it can give nan values and we have to change the columns to similar names, so that we can merge two datasets based on common columns."
   ]
  },
  {
   "cell_type": "markdown",
   "id": "16dde17c",
   "metadata": {},
   "source": [
    "#### 2.The column which has the most missing values according to the data is:"
   ]
  },
  {
   "cell_type": "code",
   "execution_count": 77,
   "id": "a419c0b9",
   "metadata": {},
   "outputs": [
    {
     "data": {
      "text/plain": [
       "id                   0\n",
       "season               0\n",
       "city                 7\n",
       "date                 0\n",
       "team1                0\n",
       "team2                0\n",
       "toss_winner          0\n",
       "toss_decision        0\n",
       "result               0\n",
       "dl_applied           0\n",
       "winner               4\n",
       "win_by_runs          0\n",
       "win_by_wickets       0\n",
       "player_of_match      4\n",
       "venue                0\n",
       "umpire1              2\n",
       "umpire2              2\n",
       "umpire3            637\n",
       "dtype: int64"
      ]
     },
     "execution_count": 77,
     "metadata": {},
     "output_type": "execute_result"
    }
   ],
   "source": [
    "df1.isna().sum()"
   ]
  },
  {
   "cell_type": "markdown",
   "id": "e2ba1dbd",
   "metadata": {},
   "source": [
    "Umpire3 is having the most number of missing values"
   ]
  },
  {
   "cell_type": "markdown",
   "id": "f8fb3398",
   "metadata": {},
   "source": [
    "#### 3.City which hosted most number of seasons according to the data is:"
   ]
  },
  {
   "cell_type": "code",
   "execution_count": 131,
   "id": "b9ee1d08",
   "metadata": {},
   "outputs": [
    {
     "data": {
      "text/plain": [
       "city\n",
       "Mumbai    101\n",
       "Name: count, dtype: int64"
      ]
     },
     "execution_count": 131,
     "metadata": {},
     "output_type": "execute_result"
    }
   ],
   "source": [
    "df1.city.value_counts().nlargest(1)"
   ]
  },
  {
   "cell_type": "markdown",
   "id": "e46aadfa",
   "metadata": {},
   "source": [
    "#### 4. Which year has the most number of matches played?"
   ]
  },
  {
   "cell_type": "code",
   "execution_count": 79,
   "id": "b43928c5",
   "metadata": {},
   "outputs": [
    {
     "data": {
      "text/plain": [
       "season\n",
       "2013    76\n",
       "Name: count, dtype: int64"
      ]
     },
     "execution_count": 79,
     "metadata": {},
     "output_type": "execute_result"
    }
   ],
   "source": [
    "df1[\"season\"].value_counts().nlargest(1)"
   ]
  },
  {
   "cell_type": "markdown",
   "id": "01429c31",
   "metadata": {},
   "source": [
    "#### 5. Maximum wins by Mumbai Indians in 2011 are"
   ]
  },
  {
   "cell_type": "code",
   "execution_count": 80,
   "id": "697273d9",
   "metadata": {},
   "outputs": [
    {
     "data": {
      "text/plain": [
       "10"
      ]
     },
     "execution_count": 80,
     "metadata": {},
     "output_type": "execute_result"
    }
   ],
   "source": [
    "len(df1[(df1[\"season\"]==2011) & (df1[\"winner\"]==\"Mumbai Indians\")])"
   ]
  },
  {
   "cell_type": "markdown",
   "id": "99a3c459",
   "metadata": {},
   "source": [
    "#### 6. For 'toss_decision' feature what kind of plot is suitable?"
   ]
  },
  {
   "cell_type": "code",
   "execution_count": 81,
   "id": "8cc51b3f",
   "metadata": {},
   "outputs": [
    {
     "data": {
      "text/plain": [
       "<Axes: xlabel='toss_decision'>"
      ]
     },
     "execution_count": 81,
     "metadata": {},
     "output_type": "execute_result"
    },
    {
     "data": {
      "image/png": "[encoded data removed]",
      "text/plain": [
       "<Figure size 300x300 with 1 Axes>"
      ]
     },
     "metadata": {},
     "output_type": "display_data"
    }
   ],
   "source": [
    "df1[\"toss_decision\"].value_counts().plot(kind= \"bar\",figsize=(3,3))"
   ]
  },
  {
   "cell_type": "code",
   "execution_count": 82,
   "id": "ccb3b40f",
   "metadata": {},
   "outputs": [
    {
     "data": {
      "text/plain": [
       "<Axes: ylabel='count'>"
      ]
     },
     "execution_count": 82,
     "metadata": {},
     "output_type": "execute_result"
    },
    {
     "data": {
      "image/png": "[encoded data removed]",
      "text/plain": [
       "<Figure size 300x300 with 1 Axes>"
      ]
     },
     "metadata": {},
     "output_type": "display_data"
    }
   ],
   "source": [
    "df1[\"toss_decision\"].value_counts().plot(kind= \"pie\",figsize=(3,3))"
   ]
  },
  {
   "cell_type": "markdown",
   "id": "51109069",
   "metadata": {},
   "source": [
    "#### 7. What is the percentage of getting bat and field in feature 'toss_descision'?"
   ]
  },
  {
   "cell_type": "code",
   "execution_count": 83,
   "id": "1358e152",
   "metadata": {},
   "outputs": [
    {
     "data": {
      "text/plain": [
       "<Axes: ylabel='count'>"
      ]
     },
     "execution_count": 83,
     "metadata": {},
     "output_type": "execute_result"
    },
    {
     "data": {
      "image/png": "[encoded data removed]",
      "text/plain": [
       "<Figure size 300x300 with 1 Axes>"
      ]
     },
     "metadata": {},
     "output_type": "display_data"
    }
   ],
   "source": [
    "df1[\"toss_decision\"].value_counts().plot(kind= \"pie\",figsize=(3,3),autopct= \"%1.1f\")"
   ]
  },
  {
   "cell_type": "markdown",
   "id": "8f1dd013",
   "metadata": {},
   "source": [
    "#### 8.Which statement holds true"
   ]
  },
  {
   "cell_type": "code",
   "execution_count": 110,
   "id": "2ee0c937",
   "metadata": {},
   "outputs": [],
   "source": [
    "bat_first= df1[(df1[\"season\"])& (df1[\"toss_decision\"]==\"bat\") & (df1[\"toss_winner\"]==df1[\"winner\"])]"
   ]
  },
  {
   "cell_type": "code",
   "execution_count": 117,
   "id": "59833b10",
   "metadata": {},
   "outputs": [
    {
     "data": {
      "text/plain": [
       "76"
      ]
     },
     "execution_count": 117,
     "metadata": {},
     "output_type": "execute_result"
    }
   ],
   "source": [
    "len(bat_first) "
   ]
  },
  {
   "cell_type": "code",
   "execution_count": 116,
   "id": "a39fc949",
   "metadata": {},
   "outputs": [
    {
     "data": {
      "text/plain": [
       "129"
      ]
     },
     "execution_count": 116,
     "metadata": {},
     "output_type": "execute_result"
    }
   ],
   "source": [
    "len(fielding_first)  #Teams winning tosses and electing field first have won more number of matches"
   ]
  },
  {
   "cell_type": "markdown",
   "id": "785cb84a",
   "metadata": {},
   "source": [
    "#### 9. In which years where taking batting second have won more number of matches?"
   ]
  },
  {
   "cell_type": "code",
   "execution_count": 114,
   "id": "7d4efddc",
   "metadata": {},
   "outputs": [],
   "source": [
    "fielding_first= df1[(df1[\"season\"])& (df1[\"toss_decision\"]==\"field\") & (df1[\"toss_winner\"]==df1[\"winner\"])]"
   ]
  },
  {
   "cell_type": "code",
   "execution_count": 128,
   "id": "7a253769",
   "metadata": {},
   "outputs": [
    {
     "data": {
      "text/plain": [
       "season\n",
       "2019    31\n",
       "2017    28\n",
       "2011    27\n",
       "2013    15\n",
       "2009    14\n",
       "2015    14\n",
       "Name: count, dtype: int64"
      ]
     },
     "execution_count": 128,
     "metadata": {},
     "output_type": "execute_result"
    }
   ],
   "source": [
    "fielding_first[\"season\"].value_counts()"
   ]
  },
  {
   "cell_type": "markdown",
   "id": "77c7ffbd",
   "metadata": {},
   "source": [
    "#### 10. To plot the most consistent batsmen among top 10 run getters, what plotting technique we use?"
   ]
  },
  {
   "cell_type": "code",
   "execution_count": 141,
   "id": "24be347c",
   "metadata": {},
   "outputs": [
    {
     "data": {
      "text/plain": [
       "batsman\n",
       "SK Raina          5651\n",
       "V Kohli           5616\n",
       "RG Sharma         5057\n",
       "DA Warner         4975\n",
       "S Dhawan          4876\n",
       "CH Gayle          4873\n",
       "RV Uthappa        4703\n",
       "MS Dhoni          4691\n",
       "AB de Villiers    4583\n",
       "G Gambhir         4485\n",
       "Name: total_runs, dtype: int64"
      ]
     },
     "execution_count": 141,
     "metadata": {},
     "output_type": "execute_result"
    }
   ],
   "source": [
    "df2.groupby(\"batsman\")[\"total_runs\"].sum().nlargest(10)"
   ]
  },
  {
   "cell_type": "code",
   "execution_count": 139,
   "id": "ac7a1106",
   "metadata": {},
   "outputs": [
    {
     "data": {
      "text/plain": [
       "<Axes: >"
      ]
     },
     "execution_count": 139,
     "metadata": {},
     "output_type": "execute_result"
    },
    {
     "data": {
      "image/png": "[encoded data removed]",
      "text/plain": [
       "<Figure size 640x480 with 1 Axes>"
      ]
     },
     "metadata": {},
     "output_type": "display_data"
    }
   ],
   "source": [
    "# when the variance is small then the variable most consistent/stable\n",
    "# so that which value is closer to the median line that can be treated as the consistent \n",
    "# s.dhawan is the most consistent player\n",
    "\n",
    "df2.groupby(\"batsman\")[\"total_runs\"].sum().nlargest(10).plot(kind=\"box\")"
   ]
  },
  {
   "cell_type": "markdown",
   "id": "1e12a8a9",
   "metadata": {},
   "source": [
    "#### 11. In 2019 which batsman scored highest number of runs by hitting 6's and 4's?"
   ]
  },
  {
   "cell_type": "code",
   "execution_count": 177,
   "id": "6b314ade",
   "metadata": {},
   "outputs": [],
   "source": [
    "df2.rename(columns = {'match_id':'id'}, inplace = True)"
   ]
  },
  {
   "cell_type": "code",
   "execution_count": 200,
   "id": "48dae439",
   "metadata": {},
   "outputs": [],
   "source": [
    "df_merged = pd.merge(df2,df1,on=\"id\",how=\"outer\")"
   ]
  },
  {
   "cell_type": "code",
   "execution_count": 202,
   "id": "55bd4f1a",
   "metadata": {},
   "outputs": [],
   "source": [
    "highest_runs = df_merged[(df_merged[\"season\"]==2019) & (df_merged[\"batsman_runs\"]==4) | (df_merged[\"batsman_runs\"]==6)]"
   ]
  },
  {
   "cell_type": "code",
   "execution_count": 204,
   "id": "9dd499f7",
   "metadata": {},
   "outputs": [
    {
     "data": {
      "text/plain": [
       "batsman\n",
       "CH Gayle    374\n",
       "Name: count, dtype: int64"
      ]
     },
     "execution_count": 204,
     "metadata": {},
     "output_type": "execute_result"
    }
   ],
   "source": [
    "highest_runs[\"batsman\"].value_counts().nlargest(1)"
   ]
  },
  {
   "cell_type": "markdown",
   "id": "df2e1b5a",
   "metadata": {},
   "source": [
    "#### 12. Most number of wickets taken by a bowler is"
   ]
  },
  {
   "cell_type": "code",
   "execution_count": 217,
   "id": "e16027d2",
   "metadata": {},
   "outputs": [
    {
     "data": {
      "text/plain": [
       "bowler\n",
       "SL Malinga    170\n",
       "Name: count, dtype: int64"
      ]
     },
     "execution_count": 217,
     "metadata": {},
     "output_type": "execute_result"
    }
   ],
   "source": [
    "wickets = df_merged[(df_merged['dismissal_kind'] == 'bowled') | (df_merged['dismissal_kind'] == 'caught')|(df_merged['dismissal_kind'] == 'lbw')|(df_merged['dismissal_kind'] == 'caught and bowled')|(df_merged['dismissal_kind'] == 'stumped')|(df_merged['dismissal_kind'] == 'hit wicket')]\n",
    "\n",
    "wickets['bowler'].value_counts().nlargest(1)"
   ]
  },
  {
   "cell_type": "markdown",
   "id": "47e53d84",
   "metadata": {},
   "source": [
    "#### 13.  What is the strike rate of Kohli in 2016\n"
   ]
  },
  {
   "cell_type": "code",
   "execution_count": 208,
   "id": "93e94ce4",
   "metadata": {},
   "outputs": [],
   "source": [
    "virat_kohli= df_merged[(df_merged[\"season\"]==2016)& (df_merged[\"batsman\"]==\"V Kohli\")]"
   ]
  },
  {
   "cell_type": "code",
   "execution_count": 214,
   "id": "b3ef8855",
   "metadata": {},
   "outputs": [
    {
     "data": {
      "text/plain": [
       "655"
      ]
     },
     "execution_count": 214,
     "metadata": {},
     "output_type": "execute_result"
    }
   ],
   "source": [
    "len(virat_kohli)"
   ]
  },
  {
   "cell_type": "code",
   "execution_count": 215,
   "id": "e96accb2",
   "metadata": {},
   "outputs": [
    {
     "data": {
      "text/plain": [
       "152.36641221374046"
      ]
     },
     "execution_count": 215,
     "metadata": {},
     "output_type": "execute_result"
    }
   ],
   "source": [
    "(virat_kohli[\"total_runs\"].sum()/len(virat_kohli))*100"
   ]
  },
  {
   "cell_type": "markdown",
   "id": "a8c61b43",
   "metadata": {},
   "source": [
    "#### 14.Bowlers with maximum number of extras:"
   ]
  },
  {
   "cell_type": "code",
   "execution_count": 88,
   "id": "4504d515",
   "metadata": {},
   "outputs": [
    {
     "data": {
      "text/plain": [
       "bowler\n",
       "SL Malinga    293\n",
       "Name: extra_runs, dtype: int64"
      ]
     },
     "execution_count": 88,
     "metadata": {},
     "output_type": "execute_result"
    }
   ],
   "source": [
    "df2.groupby(\"bowler\")[\"extra_runs\"].sum().nlargest(1)"
   ]
  },
  {
   "cell_type": "markdown",
   "id": "440df08c",
   "metadata": {},
   "source": [
    "#### 15.Which venue has hosted most number of IPL matches?"
   ]
  },
  {
   "cell_type": "code",
   "execution_count": 89,
   "id": "5571b89e",
   "metadata": {},
   "outputs": [
    {
     "data": {
      "text/plain": [
       "venue\n",
       "Eden Gardens    77\n",
       "Name: count, dtype: int64"
      ]
     },
     "execution_count": 89,
     "metadata": {},
     "output_type": "execute_result"
    }
   ],
   "source": [
    "df1[\"venue\"].value_counts().nlargest(1)"
   ]
  },
  {
   "cell_type": "markdown",
   "id": "6881cd0e",
   "metadata": {},
   "source": [
    "#### 16. In 2017 when sunrisers hyderabad clashed against Royal Challengers Bangalore which team player won player of the match?"
   ]
  },
  {
   "cell_type": "code",
   "execution_count": 157,
   "id": "fb81ebcb",
   "metadata": {},
   "outputs": [],
   "source": [
    "player_of_the_match= df1[(df1[\"season\"]==2017) & (df1[\"team1\"]==\"Sunrisers Hyderabad\") & (df1[\"team2\"]==\"Royal Challengers Bangalore\")]"
   ]
  },
  {
   "cell_type": "code",
   "execution_count": 158,
   "id": "9cc2d0b1",
   "metadata": {},
   "outputs": [
    {
     "data": {
      "text/plain": [
       "'Yuvraj Singh'"
      ]
     },
     "execution_count": 158,
     "metadata": {},
     "output_type": "execute_result"
    }
   ],
   "source": [
    "player_of_the_match.iloc[0,13]"
   ]
  },
  {
   "cell_type": "markdown",
   "id": "c9bc1ed4",
   "metadata": {},
   "source": [
    "#### 17. Across seasons who are the top three batsman's with most number of run out?"
   ]
  },
  {
   "cell_type": "code",
   "execution_count": 122,
   "id": "c0b7fa9b",
   "metadata": {},
   "outputs": [],
   "source": [
    "run_out= df2[df2[\"dismissal_kind\"]=='run out']"
   ]
  },
  {
   "cell_type": "code",
   "execution_count": 127,
   "id": "bae91397",
   "metadata": {},
   "outputs": [
    {
     "data": {
      "text/plain": [
       "batsman\n",
       "MS Dhoni      21\n",
       "RG Sharma     17\n",
       "KD Karthik    16\n",
       "G Gambhir     15\n",
       "V Kohli       15\n",
       "Name: count, dtype: int64"
      ]
     },
     "execution_count": 127,
     "metadata": {},
     "output_type": "execute_result"
    }
   ],
   "source": [
    "run_out[\"batsman\"].value_counts().nlargest(5)"
   ]
  },
  {
   "cell_type": "markdown",
   "id": "04e86bfd",
   "metadata": {},
   "source": [
    "#### 18. What are the total runs scored by V Kohli when the bowler was JJ Burmah?"
   ]
  },
  {
   "cell_type": "code",
   "execution_count": 90,
   "id": "3beb67f8",
   "metadata": {},
   "outputs": [],
   "source": [
    "df3= df2[(df2[\"batsman\"]==\"V Kohli\") & (df2[\"bowler\"]==\"JJ Bumrah\")]"
   ]
  },
  {
   "cell_type": "code",
   "execution_count": 91,
   "id": "89eb33b3",
   "metadata": {},
   "outputs": [
    {
     "data": {
      "text/plain": [
       "114"
      ]
     },
     "execution_count": 91,
     "metadata": {},
     "output_type": "execute_result"
    }
   ],
   "source": [
    "df3[\"total_runs\"].sum()"
   ]
  },
  {
   "cell_type": "markdown",
   "id": "4dd45860",
   "metadata": {},
   "source": [
    "#### 19. Across all seasons which player was dismissed the maximum number of times via caught and bowled"
   ]
  },
  {
   "cell_type": "code",
   "execution_count": 165,
   "id": "e3b609cb",
   "metadata": {},
   "outputs": [],
   "source": [
    "dismissed = df2[(df2[\"dismissal_kind\"]=='caught') | (df2[\"dismissal_kind\"]==\"bowled\")]"
   ]
  },
  {
   "cell_type": "code",
   "execution_count": 168,
   "id": "cf8e551c",
   "metadata": {},
   "outputs": [
    {
     "data": {
      "text/plain": [
       "batsman\n",
       "SK Raina    128\n",
       "Name: count, dtype: int64"
      ]
     },
     "execution_count": 168,
     "metadata": {},
     "output_type": "execute_result"
    }
   ],
   "source": [
    "dismissed[\"batsman\"].value_counts().nlargest(1)"
   ]
  },
  {
   "cell_type": "markdown",
   "id": "84a3330d",
   "metadata": {},
   "source": [
    "#### 20. which player has the highest hard-hitting ability?\n"
   ]
  },
  {
   "cell_type": "code",
   "execution_count": 174,
   "id": "bdab1661",
   "metadata": {},
   "outputs": [],
   "source": [
    "hard_hitter = df2[df2[\"batsman_runs\"]==6]"
   ]
  },
  {
   "cell_type": "code",
   "execution_count": 176,
   "id": "8992253f",
   "metadata": {},
   "outputs": [
    {
     "data": {
      "text/plain": [
       "batsman\n",
       "CH Gayle    327\n",
       "Name: count, dtype: int64"
      ]
     },
     "execution_count": 176,
     "metadata": {},
     "output_type": "execute_result"
    }
   ],
   "source": [
    "hard_hitter[\"batsman\"].value_counts().nlargest(1)"
   ]
  },
  {
   "cell_type": "code",
   "execution_count": null,
   "id": "8487036a",
   "metadata": {},
   "outputs": [],
   "source": []
  }
 ],
 "metadata": {
  "kernelspec": {
   "display_name": "Python 3 (ipykernel)",
   "language": "python",
   "name": "python3"
  },
  "language_info": {
   "codemirror_mode": {
    "name": "ipython",
    "version": 3
   },
   "file_extension": ".py",
   "mimetype": "text/x-python",
   "name": "python",
   "nbconvert_exporter": "python",
   "pygments_lexer": "ipython3",
   "version": "3.11.4"
  }
 },
 "nbformat": 4,
 "nbformat_minor": 5
}
