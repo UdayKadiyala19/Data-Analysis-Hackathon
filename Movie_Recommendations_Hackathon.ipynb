{
 "cells": [
  {
   "cell_type": "markdown",
   "id": "dd0d607d",
   "metadata": {},
   "source": [
    "Importing the Libraries"
   ]
  },
  {
   "cell_type": "code",
   "execution_count": 2,
   "id": "5983d9ff",
   "metadata": {},
   "outputs": [],
   "source": [
    "import numpy as np\n",
    "import pandas as pd\n",
    "import matplotlib.pyplot as plt"
   ]
  },
  {
   "cell_type": "markdown",
   "id": "b90134b1",
   "metadata": {},
   "source": [
    "Importing the datasets"
   ]
  },
  {
   "cell_type": "code",
   "execution_count": 23,
   "id": "2ef35c99",
   "metadata": {},
   "outputs": [],
   "source": [
    "df1= pd.read_csv(r\"C:\\Users\\udayk\\Downloads\\movie_data\\movies.csv\")"
   ]
  },
  {
   "cell_type": "code",
   "execution_count": 24,
   "id": "a32d6144",
   "metadata": {},
   "outputs": [],
   "source": [
    "df2= pd.read_csv(r\"C:\\Users\\udayk\\Downloads\\movie_data\\ratings.csv\")"
   ]
  },
  {
   "cell_type": "code",
   "execution_count": 26,
   "id": "97d4eb59",
   "metadata": {},
   "outputs": [],
   "source": [
    "df3= pd.read_csv(r\"C:\\Users\\udayk\\Downloads\\movie_data\\tags.csv\")"
   ]
  },
  {
   "cell_type": "code",
   "execution_count": 138,
   "id": "4794e293",
   "metadata": {},
   "outputs": [],
   "source": [
    "df_links= pd.read_csv(r\"C:\\Users\\udayk\\Downloads\\movie_data\\links.csv\")"
   ]
  },
  {
   "cell_type": "markdown",
   "id": "cbe7a4cf",
   "metadata": {},
   "source": [
    "#### What is the shape of \"movies.csv\"?"
   ]
  },
  {
   "cell_type": "code",
   "execution_count": 25,
   "id": "ae6bbdc2",
   "metadata": {},
   "outputs": [
    {
     "data": {
      "text/plain": [
       "(9742, 3)"
      ]
     },
     "execution_count": 25,
     "metadata": {},
     "output_type": "execute_result"
    }
   ],
   "source": [
    "df1.shape"
   ]
  },
  {
   "cell_type": "markdown",
   "id": "47224ab1",
   "metadata": {},
   "source": [
    "#### What is the shape of \"ratings.csv\"?"
   ]
  },
  {
   "cell_type": "code",
   "execution_count": 14,
   "id": "2e1e9d0f",
   "metadata": {},
   "outputs": [
    {
     "data": {
      "text/plain": [
       "(100836, 4)"
      ]
     },
     "execution_count": 14,
     "metadata": {},
     "output_type": "execute_result"
    }
   ],
   "source": [
    "df2.shape"
   ]
  },
  {
   "cell_type": "markdown",
   "id": "e275446e",
   "metadata": {},
   "source": [
    "#### How many unique \"userId\" are available in \"ratings.csv\""
   ]
  },
  {
   "cell_type": "code",
   "execution_count": 22,
   "id": "874bb97e",
   "metadata": {},
   "outputs": [
    {
     "data": {
      "text/plain": [
       "610"
      ]
     },
     "execution_count": 22,
     "metadata": {},
     "output_type": "execute_result"
    }
   ],
   "source": [
    "df2[\"userId\"].nunique()"
   ]
  },
  {
   "cell_type": "markdown",
   "id": "e30ec258",
   "metadata": {},
   "source": [
    "#### Which movie has recieved maximum number of user ratings?"
   ]
  },
  {
   "cell_type": "code",
   "execution_count": 9,
   "id": "f8b91d7e",
   "metadata": {},
   "outputs": [],
   "source": [
    "df_new= pd.merge(df1,df2,how=\"inner\",on= \"movieId\")"
   ]
  },
  {
   "cell_type": "code",
   "execution_count": 21,
   "id": "865a1b79",
   "metadata": {},
   "outputs": [
    {
     "data": {
      "text/plain": [
       "title\n",
       "Forrest Gump (1994)    329\n",
       "Name: count, dtype: int64"
      ]
     },
     "execution_count": 21,
     "metadata": {},
     "output_type": "execute_result"
    }
   ],
   "source": [
    "df_new[\"title\"].value_counts().nlargest(1)"
   ]
  },
  {
   "cell_type": "markdown",
   "id": "7461ac99",
   "metadata": {},
   "source": [
    "#### Select all the correct tags submitted by users to \"Matrix, The (1999)\" movie?"
   ]
  },
  {
   "cell_type": "code",
   "execution_count": 28,
   "id": "0a7b8e58",
   "metadata": {},
   "outputs": [],
   "source": [
    "df_tags= pd.merge(df1,df3,how=\"inner\",on= \"movieId\")"
   ]
  },
  {
   "cell_type": "code",
   "execution_count": 36,
   "id": "8da2f2ae",
   "metadata": {},
   "outputs": [
    {
     "data": {
      "text/plain": [
       "1313          martial arts\n",
       "1314                sci-fi\n",
       "1315    alternate universe\n",
       "1316            philosophy\n",
       "1317      post apocalyptic\n",
       "Name: tag, dtype: object"
      ]
     },
     "execution_count": 36,
     "metadata": {},
     "output_type": "execute_result"
    }
   ],
   "source": [
    "df_tags[df_tags['title']==\"Matrix, The (1999)\"][\"tag\"]"
   ]
  },
  {
   "cell_type": "markdown",
   "id": "b541c050",
   "metadata": {},
   "source": [
    "#### What is the average user rating for movie named \"Terminator 2: Judgment Day (1991)\""
   ]
  },
  {
   "cell_type": "code",
   "execution_count": 39,
   "id": "924feac7",
   "metadata": {},
   "outputs": [
    {
     "data": {
      "text/plain": [
       "3.970982142857143"
      ]
     },
     "execution_count": 39,
     "metadata": {},
     "output_type": "execute_result"
    }
   ],
   "source": [
    "df_new[df_new[\"title\"]==\"Terminator 2: Judgment Day (1991)\"][\"rating\"].mean()"
   ]
  },
  {
   "cell_type": "markdown",
   "id": "abc3f662",
   "metadata": {},
   "source": [
    "#### How does the data distribution of user ratings for \"Fight Club (1999)\" movie looks like?"
   ]
  },
  {
   "cell_type": "code",
   "execution_count": 41,
   "id": "ac8b9f29",
   "metadata": {},
   "outputs": [
    {
     "data": {
      "text/plain": [
       "<Axes: ylabel='Density'>"
      ]
     },
     "execution_count": 41,
     "metadata": {},
     "output_type": "execute_result"
    },
    {
     "data": {
      "image/png": "[encoded data removed]",
      "text/plain": [
       "<Figure size 640x480 with 1 Axes>"
      ]
     },
     "metadata": {},
     "output_type": "display_data"
    }
   ],
   "source": [
    "df_new[df_new[\"title\"]==\"Fight Club (1999)\"][\"rating\"].plot(kind=\"kde\")"
   ]
  },
  {
   "cell_type": "markdown",
   "id": "d34dbd52",
   "metadata": {},
   "source": [
    "### Mandatory Operations:\n",
    "1. Group the user ratings based on movieId and apply aggregation operations like count and mean on ratings. "
   ]
  },
  {
   "cell_type": "code",
   "execution_count": 94,
   "id": "803b4f23",
   "metadata": {},
   "outputs": [],
   "source": [
    "df4= pd.DataFrame(df_new.groupby(\"movieId\")[\"rating\"].count())"
   ]
  },
  {
   "cell_type": "markdown",
   "id": "14ff3d64",
   "metadata": {},
   "source": [
    "2. Apply inner join on dataframe created from movies.csv and the grouped df from step 1."
   ]
  },
  {
   "cell_type": "code",
   "execution_count": 96,
   "id": "791f7011",
   "metadata": {},
   "outputs": [],
   "source": [
    "df5= pd.merge(df1,df4,how=\"inner\",on= \"movieId\")"
   ]
  },
  {
   "cell_type": "code",
   "execution_count": 97,
   "id": "44f31de9",
   "metadata": {},
   "outputs": [
    {
     "data": {
      "text/html": [
       "<div>\n",
       "<style scoped>\n",
       "    .dataframe tbody tr th:only-of-type {\n",
       "        vertical-align: middle;\n",
       "    }\n",
       "\n",
       "    .dataframe tbody tr th {\n",
       "        vertical-align: top;\n",
       "    }\n",
       "\n",
       "    .dataframe thead th {\n",
       "        text-align: right;\n",
       "    }\n",
       "</style>\n",
       "<table border=\"1\" class=\"dataframe\">\n",
       "  <thead>\n",
       "    <tr style=\"text-align: right;\">\n",
       "      <th></th>\n",
       "      <th>movieId</th>\n",
       "      <th>title</th>\n",
       "      <th>genres</th>\n",
       "      <th>rating</th>\n",
       "    </tr>\n",
       "  </thead>\n",
       "  <tbody>\n",
       "    <tr>\n",
       "      <th>0</th>\n",
       "      <td>1</td>\n",
       "      <td>Toy Story (1995)</td>\n",
       "      <td>Adventure|Animation|Children|Comedy|Fantasy</td>\n",
       "      <td>215</td>\n",
       "    </tr>\n",
       "    <tr>\n",
       "      <th>1</th>\n",
       "      <td>2</td>\n",
       "      <td>Jumanji (1995)</td>\n",
       "      <td>Adventure|Children|Fantasy</td>\n",
       "      <td>110</td>\n",
       "    </tr>\n",
       "    <tr>\n",
       "      <th>2</th>\n",
       "      <td>3</td>\n",
       "      <td>Grumpier Old Men (1995)</td>\n",
       "      <td>Comedy|Romance</td>\n",
       "      <td>52</td>\n",
       "    </tr>\n",
       "    <tr>\n",
       "      <th>3</th>\n",
       "      <td>4</td>\n",
       "      <td>Waiting to Exhale (1995)</td>\n",
       "      <td>Comedy|Drama|Romance</td>\n",
       "      <td>7</td>\n",
       "    </tr>\n",
       "    <tr>\n",
       "      <th>4</th>\n",
       "      <td>5</td>\n",
       "      <td>Father of the Bride Part II (1995)</td>\n",
       "      <td>Comedy</td>\n",
       "      <td>49</td>\n",
       "    </tr>\n",
       "    <tr>\n",
       "      <th>...</th>\n",
       "      <td>...</td>\n",
       "      <td>...</td>\n",
       "      <td>...</td>\n",
       "      <td>...</td>\n",
       "    </tr>\n",
       "    <tr>\n",
       "      <th>9719</th>\n",
       "      <td>193581</td>\n",
       "      <td>Black Butler: Book of the Atlantic (2017)</td>\n",
       "      <td>Action|Animation|Comedy|Fantasy</td>\n",
       "      <td>1</td>\n",
       "    </tr>\n",
       "    <tr>\n",
       "      <th>9720</th>\n",
       "      <td>193583</td>\n",
       "      <td>No Game No Life: Zero (2017)</td>\n",
       "      <td>Animation|Comedy|Fantasy</td>\n",
       "      <td>1</td>\n",
       "    </tr>\n",
       "    <tr>\n",
       "      <th>9721</th>\n",
       "      <td>193585</td>\n",
       "      <td>Flint (2017)</td>\n",
       "      <td>Drama</td>\n",
       "      <td>1</td>\n",
       "    </tr>\n",
       "    <tr>\n",
       "      <th>9722</th>\n",
       "      <td>193587</td>\n",
       "      <td>Bungo Stray Dogs: Dead Apple (2018)</td>\n",
       "      <td>Action|Animation</td>\n",
       "      <td>1</td>\n",
       "    </tr>\n",
       "    <tr>\n",
       "      <th>9723</th>\n",
       "      <td>193609</td>\n",
       "      <td>Andrew Dice Clay: Dice Rules (1991)</td>\n",
       "      <td>Comedy</td>\n",
       "      <td>1</td>\n",
       "    </tr>\n",
       "  </tbody>\n",
       "</table>\n",
       "<p>9724 rows × 4 columns</p>\n",
       "</div>"
      ],
      "text/plain": [
       "      movieId                                      title  \\\n",
       "0           1                           Toy Story (1995)   \n",
       "1           2                             Jumanji (1995)   \n",
       "2           3                    Grumpier Old Men (1995)   \n",
       "3           4                   Waiting to Exhale (1995)   \n",
       "4           5         Father of the Bride Part II (1995)   \n",
       "...       ...                                        ...   \n",
       "9719   193581  Black Butler: Book of the Atlantic (2017)   \n",
       "9720   193583               No Game No Life: Zero (2017)   \n",
       "9721   193585                               Flint (2017)   \n",
       "9722   193587        Bungo Stray Dogs: Dead Apple (2018)   \n",
       "9723   193609        Andrew Dice Clay: Dice Rules (1991)   \n",
       "\n",
       "                                           genres  rating  \n",
       "0     Adventure|Animation|Children|Comedy|Fantasy     215  \n",
       "1                      Adventure|Children|Fantasy     110  \n",
       "2                                  Comedy|Romance      52  \n",
       "3                            Comedy|Drama|Romance       7  \n",
       "4                                          Comedy      49  \n",
       "...                                           ...     ...  \n",
       "9719              Action|Animation|Comedy|Fantasy       1  \n",
       "9720                     Animation|Comedy|Fantasy       1  \n",
       "9721                                        Drama       1  \n",
       "9722                             Action|Animation       1  \n",
       "9723                                       Comedy       1  \n",
       "\n",
       "[9724 rows x 4 columns]"
      ]
     },
     "execution_count": 97,
     "metadata": {},
     "output_type": "execute_result"
    }
   ],
   "source": [
    "df5"
   ]
  },
  {
   "cell_type": "markdown",
   "id": "c5c8fa33",
   "metadata": {},
   "source": [
    "3. Filter only those movies which have more than 50 user ratings (i.e. > 50).\n"
   ]
  },
  {
   "cell_type": "code",
   "execution_count": 105,
   "id": "1ca358bc",
   "metadata": {},
   "outputs": [],
   "source": [
    "dd =df5[df5[\"rating\"]>50].sort_values(\"rating\",ascending=False)"
   ]
  },
  {
   "cell_type": "markdown",
   "id": "98a1800c",
   "metadata": {},
   "source": [
    "#### Which movie is the most popular based on  average user ratings?"
   ]
  },
  {
   "cell_type": "code",
   "execution_count": 136,
   "id": "416c7151",
   "metadata": {},
   "outputs": [],
   "source": [
    "df6= pd.merge(dd,df2,how=\"inner\",on= \"movieId\")"
   ]
  },
  {
   "cell_type": "code",
   "execution_count": 137,
   "id": "df65c6f4",
   "metadata": {},
   "outputs": [
    {
     "data": {
      "text/html": [
       "<div>\n",
       "<style scoped>\n",
       "    .dataframe tbody tr th:only-of-type {\n",
       "        vertical-align: middle;\n",
       "    }\n",
       "\n",
       "    .dataframe tbody tr th {\n",
       "        vertical-align: top;\n",
       "    }\n",
       "\n",
       "    .dataframe thead th {\n",
       "        text-align: right;\n",
       "    }\n",
       "</style>\n",
       "<table border=\"1\" class=\"dataframe\">\n",
       "  <thead>\n",
       "    <tr style=\"text-align: right;\">\n",
       "      <th></th>\n",
       "      <th>movieId</th>\n",
       "      <th>title</th>\n",
       "      <th>genres</th>\n",
       "      <th>rating_x</th>\n",
       "      <th>userId</th>\n",
       "      <th>rating_y</th>\n",
       "      <th>timestamp</th>\n",
       "    </tr>\n",
       "  </thead>\n",
       "  <tbody>\n",
       "    <tr>\n",
       "      <th>0</th>\n",
       "      <td>356</td>\n",
       "      <td>Forrest Gump (1994)</td>\n",
       "      <td>Comedy|Drama|Romance|War</td>\n",
       "      <td>329</td>\n",
       "      <td>1</td>\n",
       "      <td>4.0</td>\n",
       "      <td>964980962</td>\n",
       "    </tr>\n",
       "    <tr>\n",
       "      <th>1</th>\n",
       "      <td>356</td>\n",
       "      <td>Forrest Gump (1994)</td>\n",
       "      <td>Comedy|Drama|Romance|War</td>\n",
       "      <td>329</td>\n",
       "      <td>6</td>\n",
       "      <td>5.0</td>\n",
       "      <td>845553200</td>\n",
       "    </tr>\n",
       "    <tr>\n",
       "      <th>2</th>\n",
       "      <td>356</td>\n",
       "      <td>Forrest Gump (1994)</td>\n",
       "      <td>Comedy|Drama|Romance|War</td>\n",
       "      <td>329</td>\n",
       "      <td>7</td>\n",
       "      <td>5.0</td>\n",
       "      <td>1106635915</td>\n",
       "    </tr>\n",
       "    <tr>\n",
       "      <th>3</th>\n",
       "      <td>356</td>\n",
       "      <td>Forrest Gump (1994)</td>\n",
       "      <td>Comedy|Drama|Romance|War</td>\n",
       "      <td>329</td>\n",
       "      <td>8</td>\n",
       "      <td>3.0</td>\n",
       "      <td>839463527</td>\n",
       "    </tr>\n",
       "    <tr>\n",
       "      <th>4</th>\n",
       "      <td>356</td>\n",
       "      <td>Forrest Gump (1994)</td>\n",
       "      <td>Comedy|Drama|Romance|War</td>\n",
       "      <td>329</td>\n",
       "      <td>10</td>\n",
       "      <td>3.5</td>\n",
       "      <td>1455301685</td>\n",
       "    </tr>\n",
       "    <tr>\n",
       "      <th>...</th>\n",
       "      <td>...</td>\n",
       "      <td>...</td>\n",
       "      <td>...</td>\n",
       "      <td>...</td>\n",
       "      <td>...</td>\n",
       "      <td>...</td>\n",
       "      <td>...</td>\n",
       "    </tr>\n",
       "    <tr>\n",
       "      <th>40655</th>\n",
       "      <td>1645</td>\n",
       "      <td>The Devil's Advocate (1997)</td>\n",
       "      <td>Drama|Mystery|Thriller</td>\n",
       "      <td>51</td>\n",
       "      <td>590</td>\n",
       "      <td>3.0</td>\n",
       "      <td>1258419842</td>\n",
       "    </tr>\n",
       "    <tr>\n",
       "      <th>40656</th>\n",
       "      <td>1645</td>\n",
       "      <td>The Devil's Advocate (1997)</td>\n",
       "      <td>Drama|Mystery|Thriller</td>\n",
       "      <td>51</td>\n",
       "      <td>599</td>\n",
       "      <td>3.0</td>\n",
       "      <td>1498525684</td>\n",
       "    </tr>\n",
       "    <tr>\n",
       "      <th>40657</th>\n",
       "      <td>1645</td>\n",
       "      <td>The Devil's Advocate (1997)</td>\n",
       "      <td>Drama|Mystery|Thriller</td>\n",
       "      <td>51</td>\n",
       "      <td>603</td>\n",
       "      <td>3.0</td>\n",
       "      <td>953925740</td>\n",
       "    </tr>\n",
       "    <tr>\n",
       "      <th>40658</th>\n",
       "      <td>1645</td>\n",
       "      <td>The Devil's Advocate (1997)</td>\n",
       "      <td>Drama|Mystery|Thriller</td>\n",
       "      <td>51</td>\n",
       "      <td>606</td>\n",
       "      <td>3.5</td>\n",
       "      <td>1191361322</td>\n",
       "    </tr>\n",
       "    <tr>\n",
       "      <th>40659</th>\n",
       "      <td>1645</td>\n",
       "      <td>The Devil's Advocate (1997)</td>\n",
       "      <td>Drama|Mystery|Thriller</td>\n",
       "      <td>51</td>\n",
       "      <td>608</td>\n",
       "      <td>4.5</td>\n",
       "      <td>1117336840</td>\n",
       "    </tr>\n",
       "  </tbody>\n",
       "</table>\n",
       "<p>40660 rows × 7 columns</p>\n",
       "</div>"
      ],
      "text/plain": [
       "       movieId                        title                    genres  \\\n",
       "0          356          Forrest Gump (1994)  Comedy|Drama|Romance|War   \n",
       "1          356          Forrest Gump (1994)  Comedy|Drama|Romance|War   \n",
       "2          356          Forrest Gump (1994)  Comedy|Drama|Romance|War   \n",
       "3          356          Forrest Gump (1994)  Comedy|Drama|Romance|War   \n",
       "4          356          Forrest Gump (1994)  Comedy|Drama|Romance|War   \n",
       "...        ...                          ...                       ...   \n",
       "40655     1645  The Devil's Advocate (1997)    Drama|Mystery|Thriller   \n",
       "40656     1645  The Devil's Advocate (1997)    Drama|Mystery|Thriller   \n",
       "40657     1645  The Devil's Advocate (1997)    Drama|Mystery|Thriller   \n",
       "40658     1645  The Devil's Advocate (1997)    Drama|Mystery|Thriller   \n",
       "40659     1645  The Devil's Advocate (1997)    Drama|Mystery|Thriller   \n",
       "\n",
       "       rating_x  userId  rating_y   timestamp  \n",
       "0           329       1       4.0   964980962  \n",
       "1           329       6       5.0   845553200  \n",
       "2           329       7       5.0  1106635915  \n",
       "3           329       8       3.0   839463527  \n",
       "4           329      10       3.5  1455301685  \n",
       "...         ...     ...       ...         ...  \n",
       "40655        51     590       3.0  1258419842  \n",
       "40656        51     599       3.0  1498525684  \n",
       "40657        51     603       3.0   953925740  \n",
       "40658        51     606       3.5  1191361322  \n",
       "40659        51     608       4.5  1117336840  \n",
       "\n",
       "[40660 rows x 7 columns]"
      ]
     },
     "execution_count": 137,
     "metadata": {},
     "output_type": "execute_result"
    }
   ],
   "source": [
    "df6"
   ]
  },
  {
   "cell_type": "code",
   "execution_count": 135,
   "id": "5c1c3304",
   "metadata": {},
   "outputs": [
    {
     "data": {
      "text/plain": [
       "title\n",
       "Shawshank Redemption, The (1994)    4.429022\n",
       "Name: rating_y, dtype: float64"
      ]
     },
     "execution_count": 135,
     "metadata": {},
     "output_type": "execute_result"
    }
   ],
   "source": [
    "df6.groupby(\"title\")[\"rating_y\"].mean().sort_values(ascending=False).nlargest(1)"
   ]
  },
  {
   "cell_type": "markdown",
   "id": "b5c7e74b",
   "metadata": {},
   "source": [
    "#### Select all the correct options which comes under top 5 popular movies based on number of user ratings"
   ]
  },
  {
   "cell_type": "code",
   "execution_count": 108,
   "id": "24ceb633",
   "metadata": {},
   "outputs": [
    {
     "data": {
      "text/html": [
       "<div>\n",
       "<style scoped>\n",
       "    .dataframe tbody tr th:only-of-type {\n",
       "        vertical-align: middle;\n",
       "    }\n",
       "\n",
       "    .dataframe tbody tr th {\n",
       "        vertical-align: top;\n",
       "    }\n",
       "\n",
       "    .dataframe thead th {\n",
       "        text-align: right;\n",
       "    }\n",
       "</style>\n",
       "<table border=\"1\" class=\"dataframe\">\n",
       "  <thead>\n",
       "    <tr style=\"text-align: right;\">\n",
       "      <th></th>\n",
       "      <th>movieId</th>\n",
       "      <th>title</th>\n",
       "      <th>genres</th>\n",
       "      <th>rating</th>\n",
       "    </tr>\n",
       "  </thead>\n",
       "  <tbody>\n",
       "    <tr>\n",
       "      <th>314</th>\n",
       "      <td>356</td>\n",
       "      <td>Forrest Gump (1994)</td>\n",
       "      <td>Comedy|Drama|Romance|War</td>\n",
       "      <td>329</td>\n",
       "    </tr>\n",
       "    <tr>\n",
       "      <th>277</th>\n",
       "      <td>318</td>\n",
       "      <td>Shawshank Redemption, The (1994)</td>\n",
       "      <td>Crime|Drama</td>\n",
       "      <td>317</td>\n",
       "    </tr>\n",
       "    <tr>\n",
       "      <th>257</th>\n",
       "      <td>296</td>\n",
       "      <td>Pulp Fiction (1994)</td>\n",
       "      <td>Comedy|Crime|Drama|Thriller</td>\n",
       "      <td>307</td>\n",
       "    </tr>\n",
       "    <tr>\n",
       "      <th>510</th>\n",
       "      <td>593</td>\n",
       "      <td>Silence of the Lambs, The (1991)</td>\n",
       "      <td>Crime|Horror|Thriller</td>\n",
       "      <td>279</td>\n",
       "    </tr>\n",
       "    <tr>\n",
       "      <th>1938</th>\n",
       "      <td>2571</td>\n",
       "      <td>Matrix, The (1999)</td>\n",
       "      <td>Action|Sci-Fi|Thriller</td>\n",
       "      <td>278</td>\n",
       "    </tr>\n",
       "  </tbody>\n",
       "</table>\n",
       "</div>"
      ],
      "text/plain": [
       "      movieId                             title                       genres  \\\n",
       "314       356               Forrest Gump (1994)     Comedy|Drama|Romance|War   \n",
       "277       318  Shawshank Redemption, The (1994)                  Crime|Drama   \n",
       "257       296               Pulp Fiction (1994)  Comedy|Crime|Drama|Thriller   \n",
       "510       593  Silence of the Lambs, The (1991)        Crime|Horror|Thriller   \n",
       "1938     2571                Matrix, The (1999)       Action|Sci-Fi|Thriller   \n",
       "\n",
       "      rating  \n",
       "314      329  \n",
       "277      317  \n",
       "257      307  \n",
       "510      279  \n",
       "1938     278  "
      ]
     },
     "execution_count": 108,
     "metadata": {},
     "output_type": "execute_result"
    }
   ],
   "source": [
    "dd.head()"
   ]
  },
  {
   "cell_type": "markdown",
   "id": "95b610c1",
   "metadata": {},
   "source": [
    "#### Which Sci-Fi movie is \"third most popular\" based on the number of user ratings?"
   ]
  },
  {
   "cell_type": "code",
   "execution_count": 161,
   "id": "1abfed5c",
   "metadata": {},
   "outputs": [
    {
     "data": {
      "text/plain": [
       "title\n",
       "Matrix, The (1999)                           278\n",
       "Star Wars: Episode IV - A New Hope (1977)    251\n",
       "Jurassic Park (1993)                         238\n",
       "Name: rating_x, dtype: int64"
      ]
     },
     "execution_count": 161,
     "metadata": {},
     "output_type": "execute_result"
    }
   ],
   "source": [
    "df6[df6[\"genres\"].str.contains(\"Sci-Fi\")].groupby(\"title\")[\"rating_x\"].count().sort_values(ascending=False).nlargest(3)"
   ]
  },
  {
   "cell_type": "code",
   "execution_count": 144,
   "id": "8df74dd1",
   "metadata": {},
   "outputs": [],
   "source": [
    "d= pd.merge(df6,df_links,how=\"inner\",on= \"movieId\")"
   ]
  },
  {
   "cell_type": "code",
   "execution_count": 172,
   "id": "13d06a13",
   "metadata": {},
   "outputs": [
    {
     "data": {
      "text/html": [
       "<div>\n",
       "<style scoped>\n",
       "    .dataframe tbody tr th:only-of-type {\n",
       "        vertical-align: middle;\n",
       "    }\n",
       "\n",
       "    .dataframe tbody tr th {\n",
       "        vertical-align: top;\n",
       "    }\n",
       "\n",
       "    .dataframe thead th {\n",
       "        text-align: right;\n",
       "    }\n",
       "</style>\n",
       "<table border=\"1\" class=\"dataframe\">\n",
       "  <thead>\n",
       "    <tr style=\"text-align: right;\">\n",
       "      <th></th>\n",
       "      <th>movieId</th>\n",
       "      <th>title</th>\n",
       "      <th>genres</th>\n",
       "      <th>rating_x</th>\n",
       "      <th>userId</th>\n",
       "      <th>rating_y</th>\n",
       "      <th>timestamp</th>\n",
       "      <th>imdbId</th>\n",
       "      <th>tmdbId</th>\n",
       "    </tr>\n",
       "  </thead>\n",
       "  <tbody>\n",
       "    <tr>\n",
       "      <th>0</th>\n",
       "      <td>356</td>\n",
       "      <td>Forrest Gump (1994)</td>\n",
       "      <td>Comedy|Drama|Romance|War</td>\n",
       "      <td>329</td>\n",
       "      <td>1</td>\n",
       "      <td>4.0</td>\n",
       "      <td>964980962</td>\n",
       "      <td>109830</td>\n",
       "      <td>13.0</td>\n",
       "    </tr>\n",
       "    <tr>\n",
       "      <th>1</th>\n",
       "      <td>356</td>\n",
       "      <td>Forrest Gump (1994)</td>\n",
       "      <td>Comedy|Drama|Romance|War</td>\n",
       "      <td>329</td>\n",
       "      <td>6</td>\n",
       "      <td>5.0</td>\n",
       "      <td>845553200</td>\n",
       "      <td>109830</td>\n",
       "      <td>13.0</td>\n",
       "    </tr>\n",
       "    <tr>\n",
       "      <th>2</th>\n",
       "      <td>356</td>\n",
       "      <td>Forrest Gump (1994)</td>\n",
       "      <td>Comedy|Drama|Romance|War</td>\n",
       "      <td>329</td>\n",
       "      <td>7</td>\n",
       "      <td>5.0</td>\n",
       "      <td>1106635915</td>\n",
       "      <td>109830</td>\n",
       "      <td>13.0</td>\n",
       "    </tr>\n",
       "    <tr>\n",
       "      <th>3</th>\n",
       "      <td>356</td>\n",
       "      <td>Forrest Gump (1994)</td>\n",
       "      <td>Comedy|Drama|Romance|War</td>\n",
       "      <td>329</td>\n",
       "      <td>8</td>\n",
       "      <td>3.0</td>\n",
       "      <td>839463527</td>\n",
       "      <td>109830</td>\n",
       "      <td>13.0</td>\n",
       "    </tr>\n",
       "    <tr>\n",
       "      <th>4</th>\n",
       "      <td>356</td>\n",
       "      <td>Forrest Gump (1994)</td>\n",
       "      <td>Comedy|Drama|Romance|War</td>\n",
       "      <td>329</td>\n",
       "      <td>10</td>\n",
       "      <td>3.5</td>\n",
       "      <td>1455301685</td>\n",
       "      <td>109830</td>\n",
       "      <td>13.0</td>\n",
       "    </tr>\n",
       "    <tr>\n",
       "      <th>...</th>\n",
       "      <td>...</td>\n",
       "      <td>...</td>\n",
       "      <td>...</td>\n",
       "      <td>...</td>\n",
       "      <td>...</td>\n",
       "      <td>...</td>\n",
       "      <td>...</td>\n",
       "      <td>...</td>\n",
       "      <td>...</td>\n",
       "    </tr>\n",
       "    <tr>\n",
       "      <th>40655</th>\n",
       "      <td>1645</td>\n",
       "      <td>The Devil's Advocate (1997)</td>\n",
       "      <td>Drama|Mystery|Thriller</td>\n",
       "      <td>51</td>\n",
       "      <td>590</td>\n",
       "      <td>3.0</td>\n",
       "      <td>1258419842</td>\n",
       "      <td>118971</td>\n",
       "      <td>1813.0</td>\n",
       "    </tr>\n",
       "    <tr>\n",
       "      <th>40656</th>\n",
       "      <td>1645</td>\n",
       "      <td>The Devil's Advocate (1997)</td>\n",
       "      <td>Drama|Mystery|Thriller</td>\n",
       "      <td>51</td>\n",
       "      <td>599</td>\n",
       "      <td>3.0</td>\n",
       "      <td>1498525684</td>\n",
       "      <td>118971</td>\n",
       "      <td>1813.0</td>\n",
       "    </tr>\n",
       "    <tr>\n",
       "      <th>40657</th>\n",
       "      <td>1645</td>\n",
       "      <td>The Devil's Advocate (1997)</td>\n",
       "      <td>Drama|Mystery|Thriller</td>\n",
       "      <td>51</td>\n",
       "      <td>603</td>\n",
       "      <td>3.0</td>\n",
       "      <td>953925740</td>\n",
       "      <td>118971</td>\n",
       "      <td>1813.0</td>\n",
       "    </tr>\n",
       "    <tr>\n",
       "      <th>40658</th>\n",
       "      <td>1645</td>\n",
       "      <td>The Devil's Advocate (1997)</td>\n",
       "      <td>Drama|Mystery|Thriller</td>\n",
       "      <td>51</td>\n",
       "      <td>606</td>\n",
       "      <td>3.5</td>\n",
       "      <td>1191361322</td>\n",
       "      <td>118971</td>\n",
       "      <td>1813.0</td>\n",
       "    </tr>\n",
       "    <tr>\n",
       "      <th>40659</th>\n",
       "      <td>1645</td>\n",
       "      <td>The Devil's Advocate (1997)</td>\n",
       "      <td>Drama|Mystery|Thriller</td>\n",
       "      <td>51</td>\n",
       "      <td>608</td>\n",
       "      <td>4.5</td>\n",
       "      <td>1117336840</td>\n",
       "      <td>118971</td>\n",
       "      <td>1813.0</td>\n",
       "    </tr>\n",
       "  </tbody>\n",
       "</table>\n",
       "<p>40660 rows × 9 columns</p>\n",
       "</div>"
      ],
      "text/plain": [
       "       movieId                        title                    genres  \\\n",
       "0          356          Forrest Gump (1994)  Comedy|Drama|Romance|War   \n",
       "1          356          Forrest Gump (1994)  Comedy|Drama|Romance|War   \n",
       "2          356          Forrest Gump (1994)  Comedy|Drama|Romance|War   \n",
       "3          356          Forrest Gump (1994)  Comedy|Drama|Romance|War   \n",
       "4          356          Forrest Gump (1994)  Comedy|Drama|Romance|War   \n",
       "...        ...                          ...                       ...   \n",
       "40655     1645  The Devil's Advocate (1997)    Drama|Mystery|Thriller   \n",
       "40656     1645  The Devil's Advocate (1997)    Drama|Mystery|Thriller   \n",
       "40657     1645  The Devil's Advocate (1997)    Drama|Mystery|Thriller   \n",
       "40658     1645  The Devil's Advocate (1997)    Drama|Mystery|Thriller   \n",
       "40659     1645  The Devil's Advocate (1997)    Drama|Mystery|Thriller   \n",
       "\n",
       "       rating_x  userId  rating_y   timestamp  imdbId  tmdbId  \n",
       "0           329       1       4.0   964980962  109830    13.0  \n",
       "1           329       6       5.0   845553200  109830    13.0  \n",
       "2           329       7       5.0  1106635915  109830    13.0  \n",
       "3           329       8       3.0   839463527  109830    13.0  \n",
       "4           329      10       3.5  1455301685  109830    13.0  \n",
       "...         ...     ...       ...         ...     ...     ...  \n",
       "40655        51     590       3.0  1258419842  118971  1813.0  \n",
       "40656        51     599       3.0  1498525684  118971  1813.0  \n",
       "40657        51     603       3.0   953925740  118971  1813.0  \n",
       "40658        51     606       3.5  1191361322  118971  1813.0  \n",
       "40659        51     608       4.5  1117336840  118971  1813.0  \n",
       "\n",
       "[40660 rows x 9 columns]"
      ]
     },
     "execution_count": 172,
     "metadata": {},
     "output_type": "execute_result"
    }
   ],
   "source": [
    "d"
   ]
  },
  {
   "cell_type": "markdown",
   "id": "0d5942c6",
   "metadata": {},
   "source": [
    "#### Mention the movieId of the movie which has the highest IMDB rating."
   ]
  },
  {
   "cell_type": "code",
   "execution_count": 183,
   "id": "d623f931",
   "metadata": {},
   "outputs": [
    {
     "data": {
      "text/plain": [
       "title                             movieId\n",
       "Shawshank Redemption, The (1994)  318        4.429022\n",
       "Name: rating_y, dtype: float64"
      ]
     },
     "execution_count": 183,
     "metadata": {},
     "output_type": "execute_result"
    }
   ],
   "source": [
    "d.groupby([\"title\",\"movieId\"])[\"rating_y\"].mean().sort_values(ascending=False).nlargest(1)"
   ]
  },
  {
   "cell_type": "markdown",
   "id": "e5287073",
   "metadata": {},
   "source": [
    "#### Mention the movieId of the \"Sci-Fi\" movie which has the highest IMDB rating."
   ]
  },
  {
   "cell_type": "code",
   "execution_count": 195,
   "id": "b4c73cb6",
   "metadata": {},
   "outputs": [
    {
     "data": {
      "text/plain": [
       "title                                      movieId\n",
       "Star Wars: Episode IV - A New Hope (1977)  260        4.231076\n",
       "Name: rating_y, dtype: float64"
      ]
     },
     "execution_count": 195,
     "metadata": {},
     "output_type": "execute_result"
    }
   ],
   "source": [
    "d[d[\"genres\"].str.contains(\"Sci-Fi\")].groupby([\"title\",\"movieId\"])[\"rating_y\"].mean().sort_values(ascending=False).nlargest(1)"
   ]
  },
  {
   "cell_type": "code",
   "execution_count": null,
   "id": "4ff71154",
   "metadata": {},
   "outputs": [],
   "source": []
  }
 ],
 "metadata": {
  "kernelspec": {
   "display_name": "Python 3 (ipykernel)",
   "language": "python",
   "name": "python3"
  },
  "language_info": {
   "codemirror_mode": {
    "name": "ipython",
    "version": 3
   },
   "file_extension": ".py",
   "mimetype": "text/x-python",
   "name": "python",
   "nbconvert_exporter": "python",
   "pygments_lexer": "ipython3",
   "version": "3.11.4"
  }
 },
 "nbformat": 4,
 "nbformat_minor": 5
}
